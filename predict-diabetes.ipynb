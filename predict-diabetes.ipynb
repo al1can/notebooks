{
 "cells": [
  {
   "cell_type": "markdown",
   "id": "dba0a671",
   "metadata": {
    "papermill": {
     "duration": 0.006472,
     "end_time": "2022-12-08T21:25:42.215577",
     "exception": false,
     "start_time": "2022-12-08T21:25:42.209105",
     "status": "completed"
    },
    "tags": []
   },
   "source": [
    "## Predict Diabetes Dataset:\n",
    "* [Imports and Basic Exploration](#imports)\n",
    "* [Data Visualizing](#data-visualizing)\n",
    "* [Splitting Database](#splitting-database)\n",
    "* [Creating Models](#creating-models)\n",
    "* [Trying Tensorflow](#trying-tensorflow)"
   ]
  },
  {
   "cell_type": "markdown",
   "id": "e290bf9b",
   "metadata": {
    "papermill": {
     "duration": 0.005511,
     "end_time": "2022-12-08T21:25:42.226901",
     "exception": false,
     "start_time": "2022-12-08T21:25:42.221390",
     "status": "completed"
    },
    "tags": []
   },
   "source": [
    "## Imports and Basic Exploration <a class=\"anchor\" id=\"imports\"></a>"
   ]
  },
  {
   "cell_type": "code",
   "execution_count": 1,
   "id": "30b47430",
   "metadata": {
    "_cell_guid": "b1076dfc-b9ad-4769-8c92-a6c4dae69d19",
    "_uuid": "8f2839f25d086af736a60e9eeb907d3b93b6e0e5",
    "execution": {
     "iopub.execute_input": "2022-12-08T21:25:42.239562Z",
     "iopub.status.busy": "2022-12-08T21:25:42.239158Z",
     "iopub.status.idle": "2022-12-08T21:25:43.159614Z",
     "shell.execute_reply": "2022-12-08T21:25:43.158673Z"
    },
    "papermill": {
     "duration": 0.929531,
     "end_time": "2022-12-08T21:25:43.161969",
     "exception": false,
     "start_time": "2022-12-08T21:25:42.232438",
     "status": "completed"
    },
    "tags": []
   },
   "outputs": [],
   "source": [
    "import numpy as np\n",
    "import pandas as pd\n",
    "import matplotlib.pyplot as plt\n",
    "import seaborn as sns"
   ]
  },
  {
   "cell_type": "code",
   "execution_count": 2,
   "id": "03a6e5ea",
   "metadata": {
    "execution": {
     "iopub.execute_input": "2022-12-08T21:25:43.174989Z",
     "iopub.status.busy": "2022-12-08T21:25:43.174664Z",
     "iopub.status.idle": "2022-12-08T21:25:43.196888Z",
     "shell.execute_reply": "2022-12-08T21:25:43.196074Z"
    },
    "papermill": {
     "duration": 0.030674,
     "end_time": "2022-12-08T21:25:43.198755",
     "exception": false,
     "start_time": "2022-12-08T21:25:43.168081",
     "status": "completed"
    },
    "tags": []
   },
   "outputs": [],
   "source": [
    "data = pd.read_csv('/kaggle/input/predict-diabities/diabetes.csv')"
   ]
  },
  {
   "cell_type": "code",
   "execution_count": 3,
   "id": "134467d4",
   "metadata": {
    "execution": {
     "iopub.execute_input": "2022-12-08T21:25:43.211159Z",
     "iopub.status.busy": "2022-12-08T21:25:43.210883Z",
     "iopub.status.idle": "2022-12-08T21:25:43.228732Z",
     "shell.execute_reply": "2022-12-08T21:25:43.227823Z"
    },
    "papermill": {
     "duration": 0.026132,
     "end_time": "2022-12-08T21:25:43.230563",
     "exception": false,
     "start_time": "2022-12-08T21:25:43.204431",
     "status": "completed"
    },
    "tags": []
   },
   "outputs": [
    {
     "data": {
      "text/html": [
       "<div>\n",
       "<style scoped>\n",
       "    .dataframe tbody tr th:only-of-type {\n",
       "        vertical-align: middle;\n",
       "    }\n",
       "\n",
       "    .dataframe tbody tr th {\n",
       "        vertical-align: top;\n",
       "    }\n",
       "\n",
       "    .dataframe thead th {\n",
       "        text-align: right;\n",
       "    }\n",
       "</style>\n",
       "<table border=\"1\" class=\"dataframe\">\n",
       "  <thead>\n",
       "    <tr style=\"text-align: right;\">\n",
       "      <th></th>\n",
       "      <th>Pregnancies</th>\n",
       "      <th>Glucose</th>\n",
       "      <th>BloodPressure</th>\n",
       "      <th>SkinThickness</th>\n",
       "      <th>Insulin</th>\n",
       "      <th>BMI</th>\n",
       "      <th>DiabetesPedigreeFunction</th>\n",
       "      <th>Age</th>\n",
       "      <th>Outcome</th>\n",
       "    </tr>\n",
       "  </thead>\n",
       "  <tbody>\n",
       "    <tr>\n",
       "      <th>0</th>\n",
       "      <td>6</td>\n",
       "      <td>148</td>\n",
       "      <td>72</td>\n",
       "      <td>35</td>\n",
       "      <td>0</td>\n",
       "      <td>33.6</td>\n",
       "      <td>0.627</td>\n",
       "      <td>50</td>\n",
       "      <td>1</td>\n",
       "    </tr>\n",
       "    <tr>\n",
       "      <th>1</th>\n",
       "      <td>1</td>\n",
       "      <td>85</td>\n",
       "      <td>66</td>\n",
       "      <td>29</td>\n",
       "      <td>0</td>\n",
       "      <td>26.6</td>\n",
       "      <td>0.351</td>\n",
       "      <td>31</td>\n",
       "      <td>0</td>\n",
       "    </tr>\n",
       "    <tr>\n",
       "      <th>2</th>\n",
       "      <td>8</td>\n",
       "      <td>183</td>\n",
       "      <td>64</td>\n",
       "      <td>0</td>\n",
       "      <td>0</td>\n",
       "      <td>23.3</td>\n",
       "      <td>0.672</td>\n",
       "      <td>32</td>\n",
       "      <td>1</td>\n",
       "    </tr>\n",
       "    <tr>\n",
       "      <th>3</th>\n",
       "      <td>1</td>\n",
       "      <td>89</td>\n",
       "      <td>66</td>\n",
       "      <td>23</td>\n",
       "      <td>94</td>\n",
       "      <td>28.1</td>\n",
       "      <td>0.167</td>\n",
       "      <td>21</td>\n",
       "      <td>0</td>\n",
       "    </tr>\n",
       "    <tr>\n",
       "      <th>4</th>\n",
       "      <td>0</td>\n",
       "      <td>137</td>\n",
       "      <td>40</td>\n",
       "      <td>35</td>\n",
       "      <td>168</td>\n",
       "      <td>43.1</td>\n",
       "      <td>2.288</td>\n",
       "      <td>33</td>\n",
       "      <td>1</td>\n",
       "    </tr>\n",
       "  </tbody>\n",
       "</table>\n",
       "</div>"
      ],
      "text/plain": [
       "   Pregnancies  Glucose  BloodPressure  SkinThickness  Insulin   BMI  \\\n",
       "0            6      148             72             35        0  33.6   \n",
       "1            1       85             66             29        0  26.6   \n",
       "2            8      183             64              0        0  23.3   \n",
       "3            1       89             66             23       94  28.1   \n",
       "4            0      137             40             35      168  43.1   \n",
       "\n",
       "   DiabetesPedigreeFunction  Age  Outcome  \n",
       "0                     0.627   50        1  \n",
       "1                     0.351   31        0  \n",
       "2                     0.672   32        1  \n",
       "3                     0.167   21        0  \n",
       "4                     2.288   33        1  "
      ]
     },
     "execution_count": 3,
     "metadata": {},
     "output_type": "execute_result"
    }
   ],
   "source": [
    "data.head()"
   ]
  },
  {
   "cell_type": "code",
   "execution_count": 4,
   "id": "5857b64a",
   "metadata": {
    "execution": {
     "iopub.execute_input": "2022-12-08T21:25:43.244134Z",
     "iopub.status.busy": "2022-12-08T21:25:43.243158Z",
     "iopub.status.idle": "2022-12-08T21:25:43.254712Z",
     "shell.execute_reply": "2022-12-08T21:25:43.253894Z"
    },
    "papermill": {
     "duration": 0.019885,
     "end_time": "2022-12-08T21:25:43.256381",
     "exception": false,
     "start_time": "2022-12-08T21:25:43.236496",
     "status": "completed"
    },
    "tags": []
   },
   "outputs": [
    {
     "data": {
      "text/html": [
       "<div>\n",
       "<style scoped>\n",
       "    .dataframe tbody tr th:only-of-type {\n",
       "        vertical-align: middle;\n",
       "    }\n",
       "\n",
       "    .dataframe tbody tr th {\n",
       "        vertical-align: top;\n",
       "    }\n",
       "\n",
       "    .dataframe thead th {\n",
       "        text-align: right;\n",
       "    }\n",
       "</style>\n",
       "<table border=\"1\" class=\"dataframe\">\n",
       "  <thead>\n",
       "    <tr style=\"text-align: right;\">\n",
       "      <th></th>\n",
       "      <th>Pregnancies</th>\n",
       "      <th>Glucose</th>\n",
       "      <th>BloodPressure</th>\n",
       "      <th>SkinThickness</th>\n",
       "      <th>Insulin</th>\n",
       "      <th>BMI</th>\n",
       "      <th>DiabetesPedigreeFunction</th>\n",
       "      <th>Age</th>\n",
       "      <th>Outcome</th>\n",
       "    </tr>\n",
       "  </thead>\n",
       "  <tbody>\n",
       "    <tr>\n",
       "      <th>763</th>\n",
       "      <td>10</td>\n",
       "      <td>101</td>\n",
       "      <td>76</td>\n",
       "      <td>48</td>\n",
       "      <td>180</td>\n",
       "      <td>32.9</td>\n",
       "      <td>0.171</td>\n",
       "      <td>63</td>\n",
       "      <td>0</td>\n",
       "    </tr>\n",
       "    <tr>\n",
       "      <th>764</th>\n",
       "      <td>2</td>\n",
       "      <td>122</td>\n",
       "      <td>70</td>\n",
       "      <td>27</td>\n",
       "      <td>0</td>\n",
       "      <td>36.8</td>\n",
       "      <td>0.340</td>\n",
       "      <td>27</td>\n",
       "      <td>0</td>\n",
       "    </tr>\n",
       "    <tr>\n",
       "      <th>765</th>\n",
       "      <td>5</td>\n",
       "      <td>121</td>\n",
       "      <td>72</td>\n",
       "      <td>23</td>\n",
       "      <td>112</td>\n",
       "      <td>26.2</td>\n",
       "      <td>0.245</td>\n",
       "      <td>30</td>\n",
       "      <td>0</td>\n",
       "    </tr>\n",
       "    <tr>\n",
       "      <th>766</th>\n",
       "      <td>1</td>\n",
       "      <td>126</td>\n",
       "      <td>60</td>\n",
       "      <td>0</td>\n",
       "      <td>0</td>\n",
       "      <td>30.1</td>\n",
       "      <td>0.349</td>\n",
       "      <td>47</td>\n",
       "      <td>1</td>\n",
       "    </tr>\n",
       "    <tr>\n",
       "      <th>767</th>\n",
       "      <td>1</td>\n",
       "      <td>93</td>\n",
       "      <td>70</td>\n",
       "      <td>31</td>\n",
       "      <td>0</td>\n",
       "      <td>30.4</td>\n",
       "      <td>0.315</td>\n",
       "      <td>23</td>\n",
       "      <td>0</td>\n",
       "    </tr>\n",
       "  </tbody>\n",
       "</table>\n",
       "</div>"
      ],
      "text/plain": [
       "     Pregnancies  Glucose  BloodPressure  SkinThickness  Insulin   BMI  \\\n",
       "763           10      101             76             48      180  32.9   \n",
       "764            2      122             70             27        0  36.8   \n",
       "765            5      121             72             23      112  26.2   \n",
       "766            1      126             60              0        0  30.1   \n",
       "767            1       93             70             31        0  30.4   \n",
       "\n",
       "     DiabetesPedigreeFunction  Age  Outcome  \n",
       "763                     0.171   63        0  \n",
       "764                     0.340   27        0  \n",
       "765                     0.245   30        0  \n",
       "766                     0.349   47        1  \n",
       "767                     0.315   23        0  "
      ]
     },
     "execution_count": 4,
     "metadata": {},
     "output_type": "execute_result"
    }
   ],
   "source": [
    "data.tail()"
   ]
  },
  {
   "cell_type": "code",
   "execution_count": 5,
   "id": "d1762356",
   "metadata": {
    "execution": {
     "iopub.execute_input": "2022-12-08T21:25:43.271342Z",
     "iopub.status.busy": "2022-12-08T21:25:43.270402Z",
     "iopub.status.idle": "2022-12-08T21:25:43.277401Z",
     "shell.execute_reply": "2022-12-08T21:25:43.276816Z"
    },
    "papermill": {
     "duration": 0.016726,
     "end_time": "2022-12-08T21:25:43.279055",
     "exception": false,
     "start_time": "2022-12-08T21:25:43.262329",
     "status": "completed"
    },
    "tags": []
   },
   "outputs": [
    {
     "data": {
      "text/plain": [
       "Pregnancies                   int64\n",
       "Glucose                       int64\n",
       "BloodPressure                 int64\n",
       "SkinThickness                 int64\n",
       "Insulin                       int64\n",
       "BMI                         float64\n",
       "DiabetesPedigreeFunction    float64\n",
       "Age                           int64\n",
       "Outcome                       int64\n",
       "dtype: object"
      ]
     },
     "execution_count": 5,
     "metadata": {},
     "output_type": "execute_result"
    }
   ],
   "source": [
    "data.dtypes"
   ]
  },
  {
   "cell_type": "code",
   "execution_count": 6,
   "id": "e55dd329",
   "metadata": {
    "execution": {
     "iopub.execute_input": "2022-12-08T21:25:43.292535Z",
     "iopub.status.busy": "2022-12-08T21:25:43.291695Z",
     "iopub.status.idle": "2022-12-08T21:25:43.329784Z",
     "shell.execute_reply": "2022-12-08T21:25:43.328786Z"
    },
    "papermill": {
     "duration": 0.046629,
     "end_time": "2022-12-08T21:25:43.331640",
     "exception": false,
     "start_time": "2022-12-08T21:25:43.285011",
     "status": "completed"
    },
    "tags": []
   },
   "outputs": [
    {
     "data": {
      "text/html": [
       "<div>\n",
       "<style scoped>\n",
       "    .dataframe tbody tr th:only-of-type {\n",
       "        vertical-align: middle;\n",
       "    }\n",
       "\n",
       "    .dataframe tbody tr th {\n",
       "        vertical-align: top;\n",
       "    }\n",
       "\n",
       "    .dataframe thead th {\n",
       "        text-align: right;\n",
       "    }\n",
       "</style>\n",
       "<table border=\"1\" class=\"dataframe\">\n",
       "  <thead>\n",
       "    <tr style=\"text-align: right;\">\n",
       "      <th></th>\n",
       "      <th>Pregnancies</th>\n",
       "      <th>Glucose</th>\n",
       "      <th>BloodPressure</th>\n",
       "      <th>SkinThickness</th>\n",
       "      <th>Insulin</th>\n",
       "      <th>BMI</th>\n",
       "      <th>DiabetesPedigreeFunction</th>\n",
       "      <th>Age</th>\n",
       "      <th>Outcome</th>\n",
       "    </tr>\n",
       "  </thead>\n",
       "  <tbody>\n",
       "    <tr>\n",
       "      <th>count</th>\n",
       "      <td>768.000000</td>\n",
       "      <td>768.000000</td>\n",
       "      <td>768.000000</td>\n",
       "      <td>768.000000</td>\n",
       "      <td>768.000000</td>\n",
       "      <td>768.000000</td>\n",
       "      <td>768.000000</td>\n",
       "      <td>768.000000</td>\n",
       "      <td>768.000000</td>\n",
       "    </tr>\n",
       "    <tr>\n",
       "      <th>mean</th>\n",
       "      <td>3.845052</td>\n",
       "      <td>120.894531</td>\n",
       "      <td>69.105469</td>\n",
       "      <td>20.536458</td>\n",
       "      <td>79.799479</td>\n",
       "      <td>31.992578</td>\n",
       "      <td>0.471876</td>\n",
       "      <td>33.240885</td>\n",
       "      <td>0.348958</td>\n",
       "    </tr>\n",
       "    <tr>\n",
       "      <th>std</th>\n",
       "      <td>3.369578</td>\n",
       "      <td>31.972618</td>\n",
       "      <td>19.355807</td>\n",
       "      <td>15.952218</td>\n",
       "      <td>115.244002</td>\n",
       "      <td>7.884160</td>\n",
       "      <td>0.331329</td>\n",
       "      <td>11.760232</td>\n",
       "      <td>0.476951</td>\n",
       "    </tr>\n",
       "    <tr>\n",
       "      <th>min</th>\n",
       "      <td>0.000000</td>\n",
       "      <td>0.000000</td>\n",
       "      <td>0.000000</td>\n",
       "      <td>0.000000</td>\n",
       "      <td>0.000000</td>\n",
       "      <td>0.000000</td>\n",
       "      <td>0.078000</td>\n",
       "      <td>21.000000</td>\n",
       "      <td>0.000000</td>\n",
       "    </tr>\n",
       "    <tr>\n",
       "      <th>25%</th>\n",
       "      <td>1.000000</td>\n",
       "      <td>99.000000</td>\n",
       "      <td>62.000000</td>\n",
       "      <td>0.000000</td>\n",
       "      <td>0.000000</td>\n",
       "      <td>27.300000</td>\n",
       "      <td>0.243750</td>\n",
       "      <td>24.000000</td>\n",
       "      <td>0.000000</td>\n",
       "    </tr>\n",
       "    <tr>\n",
       "      <th>50%</th>\n",
       "      <td>3.000000</td>\n",
       "      <td>117.000000</td>\n",
       "      <td>72.000000</td>\n",
       "      <td>23.000000</td>\n",
       "      <td>30.500000</td>\n",
       "      <td>32.000000</td>\n",
       "      <td>0.372500</td>\n",
       "      <td>29.000000</td>\n",
       "      <td>0.000000</td>\n",
       "    </tr>\n",
       "    <tr>\n",
       "      <th>75%</th>\n",
       "      <td>6.000000</td>\n",
       "      <td>140.250000</td>\n",
       "      <td>80.000000</td>\n",
       "      <td>32.000000</td>\n",
       "      <td>127.250000</td>\n",
       "      <td>36.600000</td>\n",
       "      <td>0.626250</td>\n",
       "      <td>41.000000</td>\n",
       "      <td>1.000000</td>\n",
       "    </tr>\n",
       "    <tr>\n",
       "      <th>max</th>\n",
       "      <td>17.000000</td>\n",
       "      <td>199.000000</td>\n",
       "      <td>122.000000</td>\n",
       "      <td>99.000000</td>\n",
       "      <td>846.000000</td>\n",
       "      <td>67.100000</td>\n",
       "      <td>2.420000</td>\n",
       "      <td>81.000000</td>\n",
       "      <td>1.000000</td>\n",
       "    </tr>\n",
       "  </tbody>\n",
       "</table>\n",
       "</div>"
      ],
      "text/plain": [
       "       Pregnancies     Glucose  BloodPressure  SkinThickness     Insulin  \\\n",
       "count   768.000000  768.000000     768.000000     768.000000  768.000000   \n",
       "mean      3.845052  120.894531      69.105469      20.536458   79.799479   \n",
       "std       3.369578   31.972618      19.355807      15.952218  115.244002   \n",
       "min       0.000000    0.000000       0.000000       0.000000    0.000000   \n",
       "25%       1.000000   99.000000      62.000000       0.000000    0.000000   \n",
       "50%       3.000000  117.000000      72.000000      23.000000   30.500000   \n",
       "75%       6.000000  140.250000      80.000000      32.000000  127.250000   \n",
       "max      17.000000  199.000000     122.000000      99.000000  846.000000   \n",
       "\n",
       "              BMI  DiabetesPedigreeFunction         Age     Outcome  \n",
       "count  768.000000                768.000000  768.000000  768.000000  \n",
       "mean    31.992578                  0.471876   33.240885    0.348958  \n",
       "std      7.884160                  0.331329   11.760232    0.476951  \n",
       "min      0.000000                  0.078000   21.000000    0.000000  \n",
       "25%     27.300000                  0.243750   24.000000    0.000000  \n",
       "50%     32.000000                  0.372500   29.000000    0.000000  \n",
       "75%     36.600000                  0.626250   41.000000    1.000000  \n",
       "max     67.100000                  2.420000   81.000000    1.000000  "
      ]
     },
     "execution_count": 6,
     "metadata": {},
     "output_type": "execute_result"
    }
   ],
   "source": [
    "data.describe()"
   ]
  },
  {
   "cell_type": "code",
   "execution_count": 7,
   "id": "2b1f91df",
   "metadata": {
    "execution": {
     "iopub.execute_input": "2022-12-08T21:25:43.347424Z",
     "iopub.status.busy": "2022-12-08T21:25:43.346824Z",
     "iopub.status.idle": "2022-12-08T21:25:43.354052Z",
     "shell.execute_reply": "2022-12-08T21:25:43.353393Z"
    },
    "papermill": {
     "duration": 0.01738,
     "end_time": "2022-12-08T21:25:43.355738",
     "exception": false,
     "start_time": "2022-12-08T21:25:43.338358",
     "status": "completed"
    },
    "tags": []
   },
   "outputs": [
    {
     "data": {
      "text/plain": [
       "Pregnancies                 False\n",
       "Glucose                     False\n",
       "BloodPressure               False\n",
       "SkinThickness               False\n",
       "Insulin                     False\n",
       "BMI                         False\n",
       "DiabetesPedigreeFunction    False\n",
       "Age                         False\n",
       "Outcome                     False\n",
       "dtype: bool"
      ]
     },
     "execution_count": 7,
     "metadata": {},
     "output_type": "execute_result"
    }
   ],
   "source": [
    "data.isna().any()"
   ]
  },
  {
   "cell_type": "markdown",
   "id": "e3d6e544",
   "metadata": {
    "papermill": {
     "duration": 0.006797,
     "end_time": "2022-12-08T21:25:43.369468",
     "exception": false,
     "start_time": "2022-12-08T21:25:43.362671",
     "status": "completed"
    },
    "tags": []
   },
   "source": [
    "## Data Visualizing <a class=\"anchor\" id=\"data-visualizing\"></a>\n"
   ]
  },
  {
   "cell_type": "code",
   "execution_count": 8,
   "id": "36ca613f",
   "metadata": {
    "execution": {
     "iopub.execute_input": "2022-12-08T21:25:43.385991Z",
     "iopub.status.busy": "2022-12-08T21:25:43.385458Z",
     "iopub.status.idle": "2022-12-08T21:25:43.680605Z",
     "shell.execute_reply": "2022-12-08T21:25:43.679509Z"
    },
    "papermill": {
     "duration": 0.305729,
     "end_time": "2022-12-08T21:25:43.682540",
     "exception": false,
     "start_time": "2022-12-08T21:25:43.376811",
     "status": "completed"
    },
    "tags": []
   },
   "outputs": [
    {
     "data": {
      "text/plain": [
       "<AxesSubplot:xlabel='Glucose', ylabel='BMI'>"
      ]
     },
     "execution_count": 8,
     "metadata": {},
     "output_type": "execute_result"
    },
    {
     "data": {
      "image/png": "[encoded data removed]",
      "text/plain": [
       "<Figure size 432x288 with 1 Axes>"
      ]
     },
     "metadata": {
      "needs_background": "light"
     },
     "output_type": "display_data"
    }
   ],
   "source": [
    "sns.scatterplot(x=data.Glucose, y=data.BMI, hue=data.Outcome)"
   ]
  },
  {
   "cell_type": "code",
   "execution_count": 9,
   "id": "c2c819d0",
   "metadata": {
    "execution": {
     "iopub.execute_input": "2022-12-08T21:25:43.698629Z",
     "iopub.status.busy": "2022-12-08T21:25:43.698272Z",
     "iopub.status.idle": "2022-12-08T21:25:43.872944Z",
     "shell.execute_reply": "2022-12-08T21:25:43.872308Z"
    },
    "papermill": {
     "duration": 0.184842,
     "end_time": "2022-12-08T21:25:43.874754",
     "exception": false,
     "start_time": "2022-12-08T21:25:43.689912",
     "status": "completed"
    },
    "tags": []
   },
   "outputs": [
    {
     "data": {
      "text/plain": [
       "<AxesSubplot:xlabel='Age', ylabel='Count'>"
      ]
     },
     "execution_count": 9,
     "metadata": {},
     "output_type": "execute_result"
    },
    {
     "data": {
      "image/png": "[encoded data removed]",
      "text/plain": [
       "<Figure size 432x288 with 1 Axes>"
      ]
     },
     "metadata": {
      "needs_background": "light"
     },
     "output_type": "display_data"
    }
   ],
   "source": [
    "sns.histplot(data['Age'])"
   ]
  },
  {
   "cell_type": "code",
   "execution_count": 10,
   "id": "f8b76c3a",
   "metadata": {
    "execution": {
     "iopub.execute_input": "2022-12-08T21:25:43.890968Z",
     "iopub.status.busy": "2022-12-08T21:25:43.890673Z",
     "iopub.status.idle": "2022-12-08T21:25:46.271342Z",
     "shell.execute_reply": "2022-12-08T21:25:46.270470Z"
    },
    "papermill": {
     "duration": 2.391279,
     "end_time": "2022-12-08T21:25:46.273661",
     "exception": false,
     "start_time": "2022-12-08T21:25:43.882382",
     "status": "completed"
    },
    "tags": []
   },
   "outputs": [
    {
     "data": {
      "image/png": "[encoded data removed]",
      "text/plain": [
       "<Figure size 432x216 with 2 Axes>"
      ]
     },
     "metadata": {
      "needs_background": "light"
     },
     "output_type": "display_data"
    },
    {
     "data": {
      "image/png": "[encoded data removed]",
      "text/plain": [
       "<Figure size 432x216 with 2 Axes>"
      ]
     },
     "metadata": {
      "needs_background": "light"
     },
     "output_type": "display_data"
    },
    {
     "data": {
      "image/png": "[encoded data removed]",
      "text/plain": [
       "<Figure size 432x216 with 2 Axes>"
      ]
     },
     "metadata": {
      "needs_background": "light"
     },
     "output_type": "display_data"
    },
    {
     "data": {
      "image/png": "[encoded data removed]",
      "text/plain": [
       "<Figure size 432x216 with 2 Axes>"
      ]
     },
     "metadata": {
      "needs_background": "light"
     },
     "output_type": "display_data"
    },
    {
     "data": {
      "image/png": "[encoded data removed]",
      "text/plain": [
       "<Figure size 432x216 with 2 Axes>"
      ]
     },
     "metadata": {
      "needs_background": "light"
     },
     "output_type": "display_data"
    },
    {
     "data": {
      "image/png": "[encoded data removed]",
      "text/plain": [
       "<Figure size 432x216 with 2 Axes>"
      ]
     },
     "metadata": {
      "needs_background": "light"
     },
     "output_type": "display_data"
    },
    {
     "data": {
      "image/png": "[encoded data removed]",
      "text/plain": [
       "<Figure size 432x216 with 2 Axes>"
      ]
     },
     "metadata": {
      "needs_background": "light"
     },
     "output_type": "display_data"
    },
    {
     "data": {
      "image/png": "[encoded data removed]",
      "text/plain": [
       "<Figure size 432x216 with 2 Axes>"
      ]
     },
     "metadata": {
      "needs_background": "light"
     },
     "output_type": "display_data"
    }
   ],
   "source": [
    "for col in data.columns[:-1]:\n",
    "    #plt.title(\"{} vs Outcome\".format(col))\n",
    "    g = sns.FacetGrid(data, col='Outcome')\n",
    "    g.map(plt.hist, col, bins=20)\n",
    "    plt.show()\n",
    "    "
   ]
  },
  {
   "cell_type": "code",
   "execution_count": 11,
   "id": "19e8f30c",
   "metadata": {
    "execution": {
     "iopub.execute_input": "2022-12-08T21:25:46.293462Z",
     "iopub.status.busy": "2022-12-08T21:25:46.293130Z",
     "iopub.status.idle": "2022-12-08T21:25:47.244259Z",
     "shell.execute_reply": "2022-12-08T21:25:47.243303Z"
    },
    "papermill": {
     "duration": 0.963736,
     "end_time": "2022-12-08T21:25:47.246675",
     "exception": false,
     "start_time": "2022-12-08T21:25:46.282939",
     "status": "completed"
    },
    "tags": []
   },
   "outputs": [
    {
     "data": {
      "image/png": "[encoded data removed]",
      "text/plain": [
       "<Figure size 576x1152 with 8 Axes>"
      ]
     },
     "metadata": {
      "needs_background": "light"
     },
     "output_type": "display_data"
    }
   ],
   "source": [
    "fig, axes = plt.subplots(4, 2, figsize=(8, 16))\n",
    "for col, ax in zip(data.columns[:-1], axes.flat):\n",
    "    #print(ax)\n",
    "    plt.title(\"{} vs Outcome\".format(col))\n",
    "    sns.barplot(x='Outcome', y=col, data=data, ax=ax)\n",
    "plt.show()"
   ]
  },
  {
   "cell_type": "markdown",
   "id": "1b021416",
   "metadata": {
    "papermill": {
     "duration": 0.009819,
     "end_time": "2022-12-08T21:25:47.266885",
     "exception": false,
     "start_time": "2022-12-08T21:25:47.257066",
     "status": "completed"
    },
    "tags": []
   },
   "source": [
    "## Splitting Database <a class=\"anchor\" id=\"splitting-database\"></a>"
   ]
  },
  {
   "cell_type": "code",
   "execution_count": 12,
   "id": "7a57f815",
   "metadata": {
    "execution": {
     "iopub.execute_input": "2022-12-08T21:25:47.286946Z",
     "iopub.status.busy": "2022-12-08T21:25:47.286604Z",
     "iopub.status.idle": "2022-12-08T21:25:47.468660Z",
     "shell.execute_reply": "2022-12-08T21:25:47.467816Z"
    },
    "papermill": {
     "duration": 0.194521,
     "end_time": "2022-12-08T21:25:47.470862",
     "exception": false,
     "start_time": "2022-12-08T21:25:47.276341",
     "status": "completed"
    },
    "tags": []
   },
   "outputs": [],
   "source": [
    "from sklearn.model_selection import train_test_split\n",
    "\n",
    "X = data.copy()\n",
    "y = X['Outcome']\n",
    "X.drop('Outcome', axis=1, inplace=True)\n",
    "X_train, X_test, y_train, y_test = train_test_split(X, y, train_size=0.8, test_size=0.2, random_state=0)\n"
   ]
  },
  {
   "cell_type": "markdown",
   "id": "40b7c3a6",
   "metadata": {
    "papermill": {
     "duration": 0.008826,
     "end_time": "2022-12-08T21:25:47.489124",
     "exception": false,
     "start_time": "2022-12-08T21:25:47.480298",
     "status": "completed"
    },
    "tags": []
   },
   "source": [
    "## Creating Models <a class=\"anchor\" id=\"creating-models\"></a>"
   ]
  },
  {
   "cell_type": "code",
   "execution_count": 13,
   "id": "02df361a",
   "metadata": {
    "execution": {
     "iopub.execute_input": "2022-12-08T21:25:47.508924Z",
     "iopub.status.busy": "2022-12-08T21:25:47.508616Z",
     "iopub.status.idle": "2022-12-08T21:25:47.800829Z",
     "shell.execute_reply": "2022-12-08T21:25:47.799975Z"
    },
    "papermill": {
     "duration": 0.304696,
     "end_time": "2022-12-08T21:25:47.802969",
     "exception": false,
     "start_time": "2022-12-08T21:25:47.498273",
     "status": "completed"
    },
    "tags": []
   },
   "outputs": [],
   "source": [
    "from sklearn.linear_model import LogisticRegression\n",
    "from sklearn.ensemble import RandomForestClassifier\n",
    "from sklearn.tree import DecisionTreeClassifier\n",
    "from sklearn.svm import SVC\n",
    "from sklearn.neighbors import KNeighborsClassifier\n",
    "from sklearn.naive_bayes import GaussianNB\n",
    "from xgboost import XGBClassifier\n",
    "\n",
    "from sklearn.metrics import mean_absolute_error\n",
    "from sklearn.metrics import accuracy_score\n",
    "from sklearn.model_selection import GridSearchCV\n",
    "\n",
    "lr_model = LogisticRegression(solver='liblinear')\n",
    "rfc_model = RandomForestClassifier()\n",
    "dtc_model = DecisionTreeClassifier()\n",
    "svc_model = SVC()\n",
    "knn_model = KNeighborsClassifier()\n",
    "nb_model = GaussianNB()\n",
    "xgb_model = XGBClassifier()\n",
    "\n",
    "models = [\n",
    "    lr_model,\n",
    "    rfc_model,\n",
    "    dtc_model,\n",
    "    svc_model,\n",
    "    knn_model,\n",
    "    nb_model,\n",
    "    xgb_model\n",
    "]"
   ]
  },
  {
   "cell_type": "code",
   "execution_count": 14,
   "id": "c07e13d9",
   "metadata": {
    "execution": {
     "iopub.execute_input": "2022-12-08T21:25:47.822753Z",
     "iopub.status.busy": "2022-12-08T21:25:47.822435Z",
     "iopub.status.idle": "2022-12-08T21:25:47.826797Z",
     "shell.execute_reply": "2022-12-08T21:25:47.825975Z"
    },
    "papermill": {
     "duration": 0.016216,
     "end_time": "2022-12-08T21:25:47.828572",
     "exception": false,
     "start_time": "2022-12-08T21:25:47.812356",
     "status": "completed"
    },
    "tags": []
   },
   "outputs": [],
   "source": [
    "def acc_score(model, X_train, y_train, X_test, y_test):\n",
    "    model.fit(X_train, y_train)\n",
    "    y_preds = model.predict(X_test)\n",
    "    return accuracy_score(y_test, y_preds)"
   ]
  },
  {
   "cell_type": "code",
   "execution_count": 15,
   "id": "aa5a6da5",
   "metadata": {
    "execution": {
     "iopub.execute_input": "2022-12-08T21:25:47.848450Z",
     "iopub.status.busy": "2022-12-08T21:25:47.847899Z",
     "iopub.status.idle": "2022-12-08T21:25:48.314865Z",
     "shell.execute_reply": "2022-12-08T21:25:48.313902Z"
    },
    "papermill": {
     "duration": 0.478953,
     "end_time": "2022-12-08T21:25:48.317056",
     "exception": false,
     "start_time": "2022-12-08T21:25:47.838103",
     "status": "completed"
    },
    "tags": []
   },
   "outputs": [
    {
     "data": {
      "text/html": [
       "<div>\n",
       "<style scoped>\n",
       "    .dataframe tbody tr th:only-of-type {\n",
       "        vertical-align: middle;\n",
       "    }\n",
       "\n",
       "    .dataframe tbody tr th {\n",
       "        vertical-align: top;\n",
       "    }\n",
       "\n",
       "    .dataframe thead th {\n",
       "        text-align: right;\n",
       "    }\n",
       "</style>\n",
       "<table border=\"1\" class=\"dataframe\">\n",
       "  <thead>\n",
       "    <tr style=\"text-align: right;\">\n",
       "      <th></th>\n",
       "      <th>Model</th>\n",
       "      <th>Accuracy</th>\n",
       "    </tr>\n",
       "  </thead>\n",
       "  <tbody>\n",
       "    <tr>\n",
       "      <th>0</th>\n",
       "      <td>LogisticRegression(solver='liblinear')</td>\n",
       "      <td>0.818182</td>\n",
       "    </tr>\n",
       "    <tr>\n",
       "      <th>1</th>\n",
       "      <td>(DecisionTreeClassifier(max_features='auto', r...</td>\n",
       "      <td>0.818182</td>\n",
       "    </tr>\n",
       "    <tr>\n",
       "      <th>2</th>\n",
       "      <td>DecisionTreeClassifier()</td>\n",
       "      <td>0.785714</td>\n",
       "    </tr>\n",
       "    <tr>\n",
       "      <th>3</th>\n",
       "      <td>SVC()</td>\n",
       "      <td>0.792208</td>\n",
       "    </tr>\n",
       "    <tr>\n",
       "      <th>4</th>\n",
       "      <td>KNeighborsClassifier()</td>\n",
       "      <td>0.753247</td>\n",
       "    </tr>\n",
       "    <tr>\n",
       "      <th>5</th>\n",
       "      <td>GaussianNB()</td>\n",
       "      <td>0.792208</td>\n",
       "    </tr>\n",
       "    <tr>\n",
       "      <th>6</th>\n",
       "      <td>XGBClassifier(base_score=0.5, booster='gbtree'...</td>\n",
       "      <td>0.759740</td>\n",
       "    </tr>\n",
       "  </tbody>\n",
       "</table>\n",
       "</div>"
      ],
      "text/plain": [
       "                                               Model  Accuracy\n",
       "0             LogisticRegression(solver='liblinear')  0.818182\n",
       "1  (DecisionTreeClassifier(max_features='auto', r...  0.818182\n",
       "2                           DecisionTreeClassifier()  0.785714\n",
       "3                                              SVC()  0.792208\n",
       "4                             KNeighborsClassifier()  0.753247\n",
       "5                                       GaussianNB()  0.792208\n",
       "6  XGBClassifier(base_score=0.5, booster='gbtree'...  0.759740"
      ]
     },
     "execution_count": 15,
     "metadata": {},
     "output_type": "execute_result"
    }
   ],
   "source": [
    "models_acc = {model: acc_score(model, X_train, y_train, X_test, y_test) for model in models}\n",
    "pd.DataFrame({'Model': models_acc.keys(), 'Accuracy': models_acc.values()})\n"
   ]
  },
  {
   "cell_type": "code",
   "execution_count": 16,
   "id": "001436a7",
   "metadata": {
    "execution": {
     "iopub.execute_input": "2022-12-08T21:25:48.337851Z",
     "iopub.status.busy": "2022-12-08T21:25:48.336932Z",
     "iopub.status.idle": "2022-12-08T21:25:48.344520Z",
     "shell.execute_reply": "2022-12-08T21:25:48.343287Z"
    },
    "papermill": {
     "duration": 0.020346,
     "end_time": "2022-12-08T21:25:48.346894",
     "exception": false,
     "start_time": "2022-12-08T21:25:48.326548",
     "status": "completed"
    },
    "tags": []
   },
   "outputs": [],
   "source": [
    "params = [\n",
    "    {\n",
    "        'penalty': ['l1', 'l2'],\n",
    "        'C': [0.01, 0.05, 0.1, 0.5, 1.0, 10.0],\n",
    "    },\n",
    "    {\n",
    "        'n_estimators': list(range(10, 100, 10)),\n",
    "        'max_features': ['log2', 'sqrt' ],\n",
    "        'min_samples_split': list(range(10, 50, 10))\n",
    "        #'min_samples_leaf':\n",
    "        #'min_impurity_decrease':\n",
    "    },\n",
    "    {\n",
    "        'max_depth': list(range(1, 21)),\n",
    "        'max_leaf_notes': [5, 10, 15, 20, 25, 30, 35, 40, 50, 100],\n",
    "    }\n",
    "]\n"
   ]
  },
  {
   "cell_type": "code",
   "execution_count": 17,
   "id": "bafd866d",
   "metadata": {
    "execution": {
     "iopub.execute_input": "2022-12-08T21:25:48.367279Z",
     "iopub.status.busy": "2022-12-08T21:25:48.366946Z",
     "iopub.status.idle": "2022-12-08T21:26:17.286384Z",
     "shell.execute_reply": "2022-12-08T21:26:17.285338Z"
    },
    "papermill": {
     "duration": 28.931706,
     "end_time": "2022-12-08T21:26:17.288322",
     "exception": false,
     "start_time": "2022-12-08T21:25:48.356616",
     "status": "completed"
    },
    "tags": []
   },
   "outputs": [
    {
     "name": "stdout",
     "output_type": "stream",
     "text": [
      "{'C': 1.0, 'penalty': 'l1'}\n",
      "{'max_features': 'log2', 'min_samples_split': 40, 'n_estimators': 70}\n"
     ]
    }
   ],
   "source": [
    "# I am so tired i migth run it every one of the models\n",
    "#but for now i'm just going to grid search only the top two models\n",
    "#which are logictic regression and random forest\n",
    "#for i, model in enumerate(models):\n",
    "gscv_models = []\n",
    "for i, model in enumerate(models[:2]):\n",
    "    clf = GridSearchCV(model, params[i])\n",
    "    clf.fit(X_train, y_train)\n",
    "    print(clf.best_params_)\n",
    "    gscv_models.append(clf.best_estimator_)"
   ]
  },
  {
   "cell_type": "markdown",
   "id": "56889a43",
   "metadata": {
    "papermill": {
     "duration": 0.009812,
     "end_time": "2022-12-08T21:26:17.307621",
     "exception": false,
     "start_time": "2022-12-08T21:26:17.297809",
     "status": "completed"
    },
    "tags": []
   },
   "source": [
    "* {'C': 1.0, 'penalty': 'l1'}\n",
    "* {'max_features': 'sqrt', 'min_samples_split': 40, 'n_estimators': 80}"
   ]
  },
  {
   "cell_type": "code",
   "execution_count": 18,
   "id": "4b330d9b",
   "metadata": {
    "execution": {
     "iopub.execute_input": "2022-12-08T21:26:17.328119Z",
     "iopub.status.busy": "2022-12-08T21:26:17.327756Z",
     "iopub.status.idle": "2022-12-08T21:26:17.334756Z",
     "shell.execute_reply": "2022-12-08T21:26:17.333827Z"
    },
    "papermill": {
     "duration": 0.019686,
     "end_time": "2022-12-08T21:26:17.336858",
     "exception": false,
     "start_time": "2022-12-08T21:26:17.317172",
     "status": "completed"
    },
    "tags": []
   },
   "outputs": [
    {
     "data": {
      "text/plain": [
       "[LogisticRegression(penalty='l1', solver='liblinear'),\n",
       " RandomForestClassifier(max_features='log2', min_samples_split=40,\n",
       "                        n_estimators=70)]"
      ]
     },
     "execution_count": 18,
     "metadata": {},
     "output_type": "execute_result"
    }
   ],
   "source": [
    "gscv_models"
   ]
  },
  {
   "cell_type": "code",
   "execution_count": 19,
   "id": "bcc3c9a0",
   "metadata": {
    "execution": {
     "iopub.execute_input": "2022-12-08T21:26:17.357855Z",
     "iopub.status.busy": "2022-12-08T21:26:17.357249Z",
     "iopub.status.idle": "2022-12-08T21:26:17.548783Z",
     "shell.execute_reply": "2022-12-08T21:26:17.547936Z"
    },
    "papermill": {
     "duration": 0.203925,
     "end_time": "2022-12-08T21:26:17.550625",
     "exception": false,
     "start_time": "2022-12-08T21:26:17.346700",
     "status": "completed"
    },
    "tags": []
   },
   "outputs": [
    {
     "data": {
      "text/html": [
       "<div>\n",
       "<style scoped>\n",
       "    .dataframe tbody tr th:only-of-type {\n",
       "        vertical-align: middle;\n",
       "    }\n",
       "\n",
       "    .dataframe tbody tr th {\n",
       "        vertical-align: top;\n",
       "    }\n",
       "\n",
       "    .dataframe thead th {\n",
       "        text-align: right;\n",
       "    }\n",
       "</style>\n",
       "<table border=\"1\" class=\"dataframe\">\n",
       "  <thead>\n",
       "    <tr style=\"text-align: right;\">\n",
       "      <th></th>\n",
       "      <th>Model</th>\n",
       "      <th>Accuracy</th>\n",
       "    </tr>\n",
       "  </thead>\n",
       "  <tbody>\n",
       "    <tr>\n",
       "      <th>0</th>\n",
       "      <td>LogisticRegression(penalty='l1', solver='libli...</td>\n",
       "      <td>0.824675</td>\n",
       "    </tr>\n",
       "    <tr>\n",
       "      <th>1</th>\n",
       "      <td>(DecisionTreeClassifier(max_features='log2', m...</td>\n",
       "      <td>0.811688</td>\n",
       "    </tr>\n",
       "  </tbody>\n",
       "</table>\n",
       "</div>"
      ],
      "text/plain": [
       "                                               Model  Accuracy\n",
       "0  LogisticRegression(penalty='l1', solver='libli...  0.824675\n",
       "1  (DecisionTreeClassifier(max_features='log2', m...  0.811688"
      ]
     },
     "execution_count": 19,
     "metadata": {},
     "output_type": "execute_result"
    }
   ],
   "source": [
    "models_acc = {model: acc_score(model, X_train, y_train, X_test, y_test) for model in gscv_models}\n",
    "pd.DataFrame({'Model': models_acc.keys(), 'Accuracy': models_acc.values()})\n"
   ]
  },
  {
   "cell_type": "code",
   "execution_count": 20,
   "id": "1435a082",
   "metadata": {
    "execution": {
     "iopub.execute_input": "2022-12-08T21:26:17.571019Z",
     "iopub.status.busy": "2022-12-08T21:26:17.570650Z",
     "iopub.status.idle": "2022-12-08T21:26:17.576200Z",
     "shell.execute_reply": "2022-12-08T21:26:17.575413Z"
    },
    "papermill": {
     "duration": 0.017614,
     "end_time": "2022-12-08T21:26:17.577853",
     "exception": false,
     "start_time": "2022-12-08T21:26:17.560239",
     "status": "completed"
    },
    "tags": []
   },
   "outputs": [
    {
     "data": {
      "text/plain": [
       "8"
      ]
     },
     "execution_count": 20,
     "metadata": {},
     "output_type": "execute_result"
    }
   ],
   "source": [
    "X_train.shape[1]"
   ]
  },
  {
   "cell_type": "markdown",
   "id": "be154006",
   "metadata": {
    "papermill": {
     "duration": 0.009132,
     "end_time": "2022-12-08T21:26:17.596480",
     "exception": false,
     "start_time": "2022-12-08T21:26:17.587348",
     "status": "completed"
    },
    "tags": []
   },
   "source": [
    "## Trying Tensorflow <a class=\"anchor\" id=\"trying-tensorflow\"></a>"
   ]
  },
  {
   "cell_type": "code",
   "execution_count": 21,
   "id": "482c0423",
   "metadata": {
    "execution": {
     "iopub.execute_input": "2022-12-08T21:26:17.616504Z",
     "iopub.status.busy": "2022-12-08T21:26:17.616191Z",
     "iopub.status.idle": "2022-12-08T21:26:24.344585Z",
     "shell.execute_reply": "2022-12-08T21:26:24.343704Z"
    },
    "papermill": {
     "duration": 6.740508,
     "end_time": "2022-12-08T21:26:24.346348",
     "exception": false,
     "start_time": "2022-12-08T21:26:17.605840",
     "status": "completed"
    },
    "tags": []
   },
   "outputs": [
    {
     "name": "stderr",
     "output_type": "stream",
     "text": [
      "2022-12-08 21:26:22.813689: I tensorflow/core/common_runtime/process_util.cc:146] Creating new thread pool with default inter op setting: 2. Tune using inter_op_parallelism_threads for best performance.\n",
      "2022-12-08 21:26:22.913250: I tensorflow/compiler/mlir/mlir_graph_optimization_pass.cc:185] None of the MLIR Optimization Passes are enabled (registered 2)\n"
     ]
    },
    {
     "name": "stdout",
     "output_type": "stream",
     "text": [
      "Epoch 1/5\n",
      "20/20 [==============================] - 1s 2ms/step - loss: 0.3316 - accuracy: 0.6824\n",
      "Epoch 2/5\n",
      "20/20 [==============================] - 0s 2ms/step - loss: 0.2904 - accuracy: 0.7280\n",
      "Epoch 3/5\n",
      "20/20 [==============================] - 0s 2ms/step - loss: 0.2871 - accuracy: 0.7345\n",
      "Epoch 4/5\n",
      "20/20 [==============================] - 0s 2ms/step - loss: 0.2669 - accuracy: 0.7622\n",
      "Epoch 5/5\n",
      "20/20 [==============================] - 0s 2ms/step - loss: 0.2685 - accuracy: 0.7606\n"
     ]
    },
    {
     "data": {
      "text/plain": [
       "<AxesSubplot:>"
      ]
     },
     "execution_count": 21,
     "metadata": {},
     "output_type": "execute_result"
    },
    {
     "data": {
      "image/png": "[encoded data removed]",
      "text/plain": [
       "<Figure size 432x288 with 1 Axes>"
      ]
     },
     "metadata": {
      "needs_background": "light"
     },
     "output_type": "display_data"
    }
   ],
   "source": [
    "from tensorflow import keras\n",
    "from tensorflow.keras import layers\n",
    "\n",
    "model = keras.Sequential([\n",
    "    layers.BatchNormalization(),\n",
    "    layers.Dense(128, activation='tanh', input_shape=[8]),\n",
    "    layers.Dense(128, activation='tanh'),\n",
    "    layers.Dropout(rate=0.2),\n",
    "    layers.Dense(128, activation='relu'),\n",
    "    layers.Dense(1, activation='relu')\n",
    "])\n",
    "model.compile(\n",
    "    optimizer='adam',\n",
    "    loss='mae',\n",
    "    metrics=['accuracy']\n",
    ")\n",
    "history = model.fit(X_train, y_train, epochs=5)\n",
    "history_df = pd.DataFrame(history.history)\n",
    "history_df['loss'].plot()\n"
   ]
  },
  {
   "cell_type": "markdown",
   "id": "1da26779",
   "metadata": {
    "papermill": {
     "duration": 0.010359,
     "end_time": "2022-12-08T21:26:24.367539",
     "exception": false,
     "start_time": "2022-12-08T21:26:24.357180",
     "status": "completed"
    },
    "tags": []
   },
   "source": [
    "### The model that worked the best is Logistic Regression with the accuracy score of 0.824675"
   ]
  }
 ],
 "metadata": {
  "kernelspec": {
   "display_name": "Python 3",
   "language": "python",
   "name": "python3"
  },
  "language_info": {
   "codemirror_mode": {
    "name": "ipython",
    "version": 3
   },
   "file_extension": ".py",
   "mimetype": "text/x-python",
   "name": "python",
   "nbconvert_exporter": "python",
   "pygments_lexer": "ipython3",
   "version": "3.7.12"
  },
  "papermill": {
   "default_parameters": {},
   "duration": 53.76567,
   "end_time": "2022-12-08T21:26:27.862881",
   "environment_variables": {},
   "exception": null,
   "input_path": "__notebook__.ipynb",
   "output_path": "__notebook__.ipynb",
   "parameters": {},
   "start_time": "2022-12-08T21:25:34.097211",
   "version": "2.3.4"
  }
 },
 "nbformat": 4,
 "nbformat_minor": 5
}
